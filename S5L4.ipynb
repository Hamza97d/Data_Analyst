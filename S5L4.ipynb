{
 "cells": [
  {
   "cell_type": "code",
   "execution_count": 2,
   "id": "8876f134-9418-41ca-9b7e-dd1da3bd6ad0",
   "metadata": {
    "tags": []
   },
   "outputs": [
    {
     "name": "stdout",
     "output_type": "stream",
     "text": [
      "Nome: Alessio\n",
      "Cognome: Zerbin\n",
      "Età: 24\n",
      "Sesso: Maschio\n",
      "Luogo di Nascita: Novara\n"
     ]
    }
   ],
   "source": [
    "#1. Creazione di una classe Persona: \n",
    "class Persona:\n",
    "    def __init__(self, nome, cognome, eta, sesso, luogo_di_nascita):\n",
    "        self.nome = nome\n",
    "        self.cognome = cognome\n",
    "        self.eta = eta\n",
    "        self.sesso = sesso\n",
    "        self.luogo_di_nascita = luogo_di_nascita\n",
    "\n",
    "    def stampa_informazioni(self):\n",
    "        print(\"Nome:\", self.nome)\n",
    "        print(\"Cognome:\", self.cognome)\n",
    "        print(\"Età:\", self.eta)\n",
    "        print(\"Sesso:\", self.sesso)\n",
    "        print(\"Luogo di Nascita:\", self.luogo_di_nascita)\n",
    "\n",
    "persona1 = Persona(\"Alessio\", \"Zerbin\", 24, \"Maschio\", \"Novara\")\n",
    "persona1.stampa_informazioni()\n"
   ]
  },
  {
   "cell_type": "code",
   "execution_count": 1,
   "id": "3abb18f6-ec25-4ddf-be95-864cbff5539d",
   "metadata": {
    "tags": []
   },
   "outputs": [
    {
     "name": "stdout",
     "output_type": "stream",
     "text": [
      "Libro: Arancia Meccanica\n",
      "Autore: Anthony Burgess\n",
      "ISBN: 9788806142677\n",
      "Anno di pubblicazione: 1962\n",
      "Il libro non è recente.\n"
     ]
    }
   ],
   "source": [
    "#2. Gestione di una classe Libro: \n",
    "class Libro:\n",
    "    def __init__(self, titolo, autore, isbn, anno_pubblicazione):\n",
    "        self.titolo = titolo\n",
    "        self.autore = autore\n",
    "        self.isbn = isbn\n",
    "        self.anno_pubblicazione = anno_pubblicazione\n",
    "\n",
    "    def is_recente(self, anno_corrente):\n",
    "        return anno_corrente - self.anno_pubblicazione <= 3\n",
    "\n",
    "libro_arancia_meccanica = Libro(\"Arancia Meccanica\", \"Anthony Burgess\", \"9788806142677\", 1962)\n",
    "anno_corrente = 2024\n",
    "\n",
    "print(\"Libro:\", libro_arancia_meccanica.titolo)\n",
    "print(\"Autore:\", libro_arancia_meccanica.autore)\n",
    "print(\"ISBN:\", libro_arancia_meccanica.isbn)\n",
    "print(\"Anno di pubblicazione:\", libro_arancia_meccanica.anno_pubblicazione)\n",
    "\n",
    "if libro_arancia_meccanica.is_recente(anno_corrente):\n",
    "    print(\"Il libro è recente.\")\n",
    "else:\n",
    "    print(\"Il libro non è recente.\")\n"
   ]
  },
  {
   "cell_type": "code",
   "execution_count": 5,
   "id": "53c39ad7-0a00-4888-b1ff-3dc838cba4d0",
   "metadata": {
    "tags": []
   },
   "outputs": [
    {
     "name": "stdout",
     "output_type": "stream",
     "text": [
      "Raggio: 77\n",
      "Area del cerchio: 18626.48711\n",
      "Circonferenza del cerchio: 483.80485999999996\n"
     ]
    }
   ],
   "source": [
    "#3. Creazione di una classe Cerchio:\n",
    "class Cerchio:\n",
    "    def __init__(self, raggio):\n",
    "        self.raggio = raggio\n",
    "\n",
    "    def calcola_area(self):\n",
    "        return 3.14159 * (self.raggio ** 2)\n",
    "\n",
    "    def calcola_circonferenza(self):\n",
    "        return 2 * 3.14159 * self.raggio\n",
    "\n",
    "cerchio1 = Cerchio(77)\n",
    "\n",
    "print(\"Raggio:\", cerchio1.raggio)\n",
    "print(\"Area del cerchio:\", cerchio1.calcola_area())\n",
    "print(\"Circonferenza del cerchio:\", cerchio1.calcola_circonferenza())\n"
   ]
  },
  {
   "cell_type": "code",
   "execution_count": 8,
   "id": "7c1f79b5-7cdc-431e-9536-9f5afdd65466",
   "metadata": {
    "tags": []
   },
   "outputs": [
    {
     "name": "stdout",
     "output_type": "stream",
     "text": [
      "Deposito di 800 effettuato. Nuovo saldo: 3800\n",
      "Prelievo di 500 effettuato. Nuovo saldo: 3300\n",
      "Prelievo di 400 effettuato. Nuovo saldo: 2900\n"
     ]
    }
   ],
   "source": [
    "#4. Simulazione di un Conto Bancario:\n",
    "class ContoBancario:\n",
    "    def __init__(self, saldo=0):\n",
    "        self.saldo = saldo\n",
    "\n",
    "    def deposita(self, importo):\n",
    "       \n",
    "            self.saldo += importo\n",
    "            print(\"Deposito di\", importo, \"effettuato. Nuovo saldo:\", self.saldo)\n",
    "       \n",
    "    def preleva(self, importo):\n",
    "        if 0 < importo <= self.saldo:\n",
    "            self.saldo -= importo\n",
    "            print(\"Prelievo di\", importo, \"effettuato. Nuovo saldo:\", self.saldo)\n",
    "        else:\n",
    "            print(\"Saldo insufficiente.\")\n",
    "       \n",
    "\n",
    "conto1 = ContoBancario(3000)\n",
    "\n",
    "conto1.deposita(800)\n",
    "conto1.preleva(500)\n",
    "conto1.preleva(400)\n"
   ]
  },
  {
   "cell_type": "code",
   "execution_count": 7,
   "id": "a2ad2dbe-7f7f-4615-b9a5-0c790055aaf3",
   "metadata": {
    "tags": []
   },
   "outputs": [
    {
     "name": "stdout",
     "output_type": "stream",
     "text": [
      "Prodotto: Scheda video\n",
      "Prezzo: 700\n",
      "Categoria: Componenti PC\n",
      "Quantità disponibile: 10\n",
      "Quantità desiderata: 3\n",
      "Costo totale: 2100\n",
      "Disponibilità: Disponibile\n"
     ]
    }
   ],
   "source": [
    "# 5. Gestione di una classe Prodotto:\n",
    "class Prodotto:\n",
    "    def __init__(self, nome, prezzo, categoria, quantita_disponibile):\n",
    "        self.nome = nome\n",
    "        self.prezzo = prezzo\n",
    "        self.categoria = categoria\n",
    "        self.quantita_disponibile = quantita_disponibile\n",
    "\n",
    "    def calcola_costo_totale(self, quantita):\n",
    "        if quantita > 0:\n",
    "            costo_totale = self.prezzo * quantita\n",
    "            return costo_totale\n",
    "        else:\n",
    "            return 0\n",
    "\n",
    "    def verifica_disponibilita(self, quantita):\n",
    "        return quantita <= self.quantita_disponibile\n",
    "\n",
    "prodotto1 = Prodotto(\"Scheda video\", 700, \"Componenti PC\", 10)\n",
    "\n",
    "quantita_desiderata = 3\n",
    "\n",
    "costo_totale = prodotto1.calcola_costo_totale(quantita_desiderata)\n",
    "disponibile = prodotto1.verifica_disponibilita(quantita_desiderata)\n",
    "\n",
    "print(\"Prodotto:\", prodotto1.nome)\n",
    "print(\"Prezzo:\", prodotto1.prezzo)\n",
    "print(\"Categoria:\", prodotto1.categoria)\n",
    "print(\"Quantità disponibile:\", prodotto1.quantita_disponibile)\n",
    "print(\"Quantità desiderata:\", quantita_desiderata)\n",
    "print(\"Costo totale:\", costo_totale)\n",
    "print(\"Disponibilità:\", 'Disponibile' if disponibile else 'Non disponibile')\n"
   ]
  },
  {
   "cell_type": "code",
   "execution_count": 4,
   "id": "7439d609-a712-415e-a856-ce78716864f8",
   "metadata": {},
   "outputs": [
    {
     "name": "stdout",
     "output_type": "stream",
     "text": [
      "Nazione: Italia\n",
      "Lingua Ufficiale: Italiano\n",
      "Numero di Abitanti: 59110000\n",
      "PIL: 2108000000000\n",
      "PIL Pro Capite: 35662.324479783456\n",
      "Estensione territoriale: 301340 km²\n"
     ]
    }
   ],
   "source": [
    "#6. Creazione della classe Nazione:\n",
    "class Nazione:\n",
    "    def __init__(self, nome, lingua_ufficiale, num_abitanti, pil, estensione):\n",
    "        self.nome = nome\n",
    "        self.lingua_ufficiale = lingua_ufficiale\n",
    "        self.num_abitanti = num_abitanti\n",
    "        self.pil = pil\n",
    "        self.estensione = estensione\n",
    "\n",
    "    def pil_pro_capite(self):\n",
    "        \n",
    "        return self.pil / self.num_abitanti\n",
    "        \n",
    "\n",
    "    def descrizione(self):\n",
    "        print(\"Nazione:\", self.nome)\n",
    "        print(\"Lingua Ufficiale:\", self.lingua_ufficiale)\n",
    "        print(\"Numero di Abitanti:\", self.num_abitanti)\n",
    "        print(\"PIL:\", self.pil)\n",
    "        print(\"PIL Pro Capite:\", self.pil_pro_capite())\n",
    "        print(\"Estensione territoriale:\", self.estensione, \"km²\")\n",
    "\n",
    "italia = Nazione(\"Italia\", \"Italiano\", 59110000, 2108000000000, 301340)\n",
    "\n",
    "italia.descrizione()\n"
   ]
  }
 ],
 "metadata": {
  "kernelspec": {
   "display_name": "Python 3 (ipykernel)",
   "language": "python",
   "name": "python3"
  },
  "language_info": {
   "codemirror_mode": {
    "name": "ipython",
    "version": 3
   },
   "file_extension": ".py",
   "mimetype": "text/x-python",
   "name": "python",
   "nbconvert_exporter": "python",
   "pygments_lexer": "ipython3",
   "version": "3.11.5"
  }
 },
 "nbformat": 4,
 "nbformat_minor": 5
}
