{
 "cells": [
  {
   "cell_type": "code",
   "execution_count": 1,
   "id": "51fff941-2fbf-4ec0-b1fc-660120663938",
   "metadata": {
    "tags": []
   },
   "outputs": [
    {
     "name": "stdout",
     "output_type": "stream",
     "text": [
      "E\n",
      "p\n",
      "i\n",
      "c\n",
      "o\n",
      "d\n",
      "e\n"
     ]
    }
   ],
   "source": [
    "#Stampare ogni carattere della stringa, uno su ogni riga, utilizzando un costrutto for\n",
    "nome_scuola = \"Epicode\"\n",
    "\n",
    "for carattere in nome_scuola:\n",
    "    print(carattere)\n"
   ]
  },
  {
   "cell_type": "code",
   "execution_count": 2,
   "id": "c894fe09-9184-423b-852d-6b6e11235008",
   "metadata": {
    "tags": []
   },
   "outputs": [
    {
     "name": "stdout",
     "output_type": "stream",
     "text": [
      "0\n",
      "1\n",
      "2\n",
      "3\n",
      "4\n",
      "5\n",
      "6\n",
      "7\n",
      "8\n",
      "9\n",
      "10\n",
      "11\n",
      "12\n",
      "13\n",
      "14\n",
      "15\n",
      "16\n",
      "17\n",
      "18\n",
      "19\n",
      "20\n"
     ]
    }
   ],
   "source": [
    "# Stampare a video tutti i numeri da 0 a 20 utilizzando il costrutto for\n",
    "for numero in range(21):\n",
    "    print(numero)\n"
   ]
  },
  {
   "cell_type": "code",
   "execution_count": 3,
   "id": "6d2ee808-e08a-47c3-baf8-acf773fca4e9",
   "metadata": {
    "tags": []
   },
   "outputs": [
    {
     "name": "stdout",
     "output_type": "stream",
     "text": [
      "2^0 = 1\n",
      "2^1 = 2\n",
      "2^2 = 4\n",
      "2^3 = 8\n",
      "2^4 = 16\n",
      "2^5 = 32\n",
      "2^6 = 64\n",
      "2^7 = 128\n",
      "2^8 = 256\n",
      "2^9 = 512\n"
     ]
    }
   ],
   "source": [
    "# Calcolare e stampare tutte le prime 10 potenze di 2 (e.g., 2⁰, 2¹, 2², …) utilizzando un ciclo for\n",
    "for esponente in range(10):\n",
    "    risultato = 2 ** esponente\n",
    "    print(f\"2^{esponente} = {risultato}\")\n"
   ]
  },
  {
   "cell_type": "code",
   "execution_count": 4,
   "id": "e516346d-802b-4781-9fad-39d42bd45aed",
   "metadata": {
    "tags": []
   },
   "outputs": [
    {
     "name": "stdout",
     "output_type": "stream",
     "text": [
      "Dizionario proprietario-auto:\n",
      "Ada Punto\n",
      "Ben Multipla\n",
      "Charlie Golf\n",
      "Debbie 107\n",
      "\n",
      "Auto associata a Debbie: 107\n"
     ]
    }
   ],
   "source": [
    "# Creiamo un dizionario che assegni ad ogni proprietario la sua auto, sapendo che: • Ada guida una Punto • Ben guida una Multipla • Charlie guida una Golf • Debbie guida una 107 Stampiamo il dizionario per intero, e poi l'auto associata a Debbie.\n",
    "\n",
    "dizionario_auto = {\n",
    "    'Ada': 'Punto',\n",
    "    'Ben': 'Multipla',\n",
    "    'Charlie': 'Golf',\n",
    "    'Debbie': '107'\n",
    "}\n",
    "\n",
    "print(\"Dizionario proprietario-auto:\")\n",
    "for proprietario, auto in dizionario_auto.items():\n",
    "    print(proprietario, auto)\n",
    "\n",
    "auto_debbie = dizionario_auto.get('Debbie')\n",
    "print(\"\\nAuto associata a Debbie:\", auto_debbie)\n"
   ]
  },
  {
   "cell_type": "code",
   "execution_count": 5,
   "id": "2c7720ce-3ed5-4721-b06e-baf046f30c9d",
   "metadata": {
    "tags": []
   },
   "outputs": [
    {
     "name": "stdout",
     "output_type": "stream",
     "text": [
      "Auto che non sono una Multipla:\n",
      "Punto\n",
      "Golf\n",
      "107\n"
     ]
    }
   ],
   "source": [
    "#Abbiamo un dizionario che assegna ad ogni proprietario la sua auto:Con un ciclo, e usando il metodo .values(), stampiamo a video tutte le auto che non sono una Multipla.\n",
    "dizionario_auto = {\n",
    "    \"Ada\": \"Punto\",\n",
    "    \"Ben\": \"Multipla\",\n",
    "    \"Charlie\": \"Golf\",\n",
    "    \"Debbie\": \"107\"\n",
    "}\n",
    "\n",
    "print(\"Auto che non sono una Multipla:\")\n",
    "for auto in dizionario_auto.values():\n",
    "    if auto != \"Multipla\":\n",
    "        print(auto)\n"
   ]
  },
  {
   "cell_type": "code",
   "execution_count": 6,
   "id": "8ae83c36-25f7-46ab-a7fa-bdd5b223fff2",
   "metadata": {
    "tags": []
   },
   "outputs": [
    {
     "name": "stdout",
     "output_type": "stream",
     "text": [
      "Dizionario auto aggiornato:\n",
      "Ada Punto\n",
      "Ben Polo\n",
      "Charlie Golf\n",
      "Debbie 107\n",
      "Emily A1\n",
      "Fred Octavia\n",
      "Grace Yaris\n",
      "Hugh Clio\n"
     ]
    }
   ],
   "source": [
    "# Abbiamo due dizionari che assegnano ad ogni proprietario la propria auto\n",
    "dizionario_auto = {\n",
    "    \"Ada\": \"Punto\",\n",
    "    \"Ben\": \"Multipla\",\n",
    "    \"Charlie\": \"Golf\",\n",
    "    \"Debbie\": \"107\",\n",
    "    \"Emily\": \"A1\"\n",
    "}\n",
    "nuovi_proprietari = {\n",
    "    \"Ben\": \"Polo\",\n",
    "    \"Fred\": \"Octavia\",\n",
    "    \"Grace\": \"Yaris\",\n",
    "    \"Hugh\": \"Clio\"\n",
    "}\n",
    "\n",
    "dizionario_auto.update(nuovi_proprietari)\n",
    "\n",
    "print(\"Dizionario auto aggiornato:\")\n",
    "for proprietario, auto in dizionario_auto.items():\n",
    "    print((proprietario), ( auto))\n",
    "\n",
    "# Cosa è successo a Ben? Ben ha cambiato auto, ha una Polo al posto di un Multipla"
   ]
  },
  {
   "cell_type": "code",
   "execution_count": 11,
   "id": "45c09818-859c-4e69-ac4e-c7433bb6bc90",
   "metadata": {
    "tags": []
   },
   "outputs": [
    {
     "name": "stdout",
     "output_type": "stream",
     "text": [
      "Minimo: 1\n",
      "Massimo: 9\n"
     ]
    }
   ],
   "source": [
    "#Scrivere una funzione che, data una lista di numeri, fornisca in output il minimo e il massimo (possiamo usare o meno le funzioni min() e max() nel corpo).\n",
    "\n",
    "def trova_minimo_massimo(lista_numeri):\n",
    "   \n",
    "    minimo = massimo = lista_numeri[0]\n",
    "\n",
    "    for numero in lista_numeri:\n",
    "        if numero < minimo:\n",
    "            minimo = numero\n",
    "        elif numero > massimo:\n",
    "            massimo = numero\n",
    "\n",
    "    return minimo, massimo\n",
    "\n",
    "numeri = [5, 2, 8, 1, 7, 3, 9]\n",
    "minimo, massimo = trova_minimo_massimo(numeri)\n",
    "\n",
    "print(\"Minimo:\", minimo)\n",
    "print(\"Massimo:\", massimo)"
   ]
  },
  {
   "cell_type": "code",
   "execution_count": 10,
   "id": "c56e73ee-9947-47fe-a658-59ef63b5fbd7",
   "metadata": {
    "tags": []
   },
   "outputs": [
    {
     "name": "stdout",
     "output_type": "stream",
     "text": [
      "I tre numeri più grandi sono: [9, 8, 7]\n"
     ]
    }
   ],
   "source": [
    "#Scrivere una funzione che, data una lista di numeri, fornisca in output i tre numeri più grandi; gestire il caso in cui la lista sia più corta di tre, e quando uno o più dei numeri selezionati sono uguali.\n",
    "def tre_numeri_piu_grandi(lista_numeri):\n",
    "\n",
    "    lunghezza_lista = len(lista_numeri)\n",
    "    if lunghezza_lista < 3:\n",
    "        return \"La lista deve contenere almeno tre numeri\"\n",
    "\n",
    "    lista_ordinata = sorted(set(lista_numeri), reverse=True)\n",
    "\n",
    "    primi_tre_numeri = lista_ordinata[:3]\n",
    "\n",
    "    return primi_tre_numeri\n",
    "\n",
    "numeri = [5, 8, 2, 8, 1, 7, 3, 9]\n",
    "risultato = tre_numeri_piu_grandi(numeri)\n",
    "\n",
    "print(\"I tre numeri più grandi sono:\", risultato)\n"
   ]
  },
  {
   "cell_type": "code",
   "execution_count": 12,
   "id": "ab34b46a-5c5d-4e39-a721-ce5d921a16c6",
   "metadata": {
    "tags": []
   },
   "outputs": [
    {
     "name": "stdout",
     "output_type": "stream",
     "text": [
      "La media dei numeri maggiori o uguali a 5 è: 7.25\n"
     ]
    }
   ],
   "source": [
    "#Esercizio Scrivere una funzione che in input acquisisce una lista di numeri e un numero K; in output, dovrà restituire la media di tutti i numeri nella lista maggiori o uguali a K; se non ce ne dovesse essere nessuno, dovrà stampare a schermo un messaggio adeguato.\n",
    "\n",
    "def media_numeri_maggiore_uguale(lista_numeri, k):\n",
    "    \n",
    "    numeri_filtrati = [numero for numero in lista_numeri if numero >= k]\n",
    "\n",
    "    if not numeri_filtrati:\n",
    "        return \"Nessun numero maggiore o uguale a\", k\n",
    "\n",
    "    media = sum(numeri_filtrati) / len(numeri_filtrati)\n",
    "\n",
    "    return media\n",
    "\n",
    "numeri = [5, 8, 2, 7, 3, 9]\n",
    "k = 5\n",
    "risultato = media_numeri_maggiore_uguale(numeri, k)\n",
    "\n",
    "print(\"La media dei numeri maggiori o uguali a\", k, \"è:\", risultato)\n"
   ]
  },
  {
   "cell_type": "code",
   "execution_count": 13,
   "id": "27afe1e8-bcaf-49da-93eb-a779f68028c9",
   "metadata": {
    "tags": []
   },
   "outputs": [
    {
     "name": "stdout",
     "output_type": "stream",
     "text": [
      "*****\n",
      "**\n",
      "***\n",
      "****\n"
     ]
    }
   ],
   "source": [
    "#Scrivere una funzione che, data una lista di numeri, come output stamperà lo stesso numero di asterischi su righe diverse, ottenendo una semplice visualizzazione grafica\n",
    "\n",
    "def stampa_asterischi(numeri):\n",
    "    for numero in numeri:\n",
    "        print('*' * numero)\n",
    "\n",
    "numeri = [5, 2, 3, 4]\n",
    "stampa_asterischi(numeri)\n"
   ]
  },
  {
   "cell_type": "code",
   "execution_count": null,
   "id": "411ae906-e681-4672-bf09-9cd7e812d9f9",
   "metadata": {},
   "outputs": [],
   "source": []
  }
 ],
 "metadata": {
  "kernelspec": {
   "display_name": "Python 3 (ipykernel)",
   "language": "python",
   "name": "python3"
  },
  "language_info": {
   "codemirror_mode": {
    "name": "ipython",
    "version": 3
   },
   "file_extension": ".py",
   "mimetype": "text/x-python",
   "name": "python",
   "nbconvert_exporter": "python",
   "pygments_lexer": "ipython3",
   "version": "3.11.5"
  }
 },
 "nbformat": 4,
 "nbformat_minor": 5
}
