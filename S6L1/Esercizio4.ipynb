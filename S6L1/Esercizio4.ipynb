{
 "cells": [
  {
   "cell_type": "code",
   "execution_count": 6,
   "id": "1dc416a5-52a3-4569-84d8-9749b1348ebc",
   "metadata": {
    "tags": []
   },
   "outputs": [
    {
     "name": "stdout",
     "output_type": "stream",
     "text": [
      "C:\\Users\\Epicode\n"
     ]
    }
   ],
   "source": [
    "%cd"
   ]
  },
  {
   "cell_type": "code",
   "execution_count": 7,
   "id": "a025b11e-f422-4cc5-8532-b24f2d6f1b22",
   "metadata": {
    "tags": []
   },
   "outputs": [
    {
     "name": "stdout",
     "output_type": "stream",
     "text": [
      "C:\\Users\\Epicode\\MyProject\n"
     ]
    }
   ],
   "source": [
    "%cd MyProject"
   ]
  },
  {
   "cell_type": "code",
   "execution_count": 8,
   "id": "7794b1d7-de00-4a07-ba3c-2bdaaa666eff",
   "metadata": {
    "tags": []
   },
   "outputs": [
    {
     "name": "stdout",
     "output_type": "stream",
     "text": [
      "C:\\Users\\Epicode\\MyProject\\S6L1\n"
     ]
    }
   ],
   "source": [
    "%cd S6L1"
   ]
  },
  {
   "cell_type": "code",
   "execution_count": 9,
   "id": "24706bcb-6a68-4171-ac03-db52a5d76613",
   "metadata": {
    "tags": []
   },
   "outputs": [
    {
     "name": "stdout",
     "output_type": "stream",
     "text": [
      " Il volume nell'unità C non ha etichetta.\n",
      " Numero di serie del volume: CEDF-B1B5\n",
      "\n",
      " Directory di C:\\Users\\Epicode\\MyProject\\S6L1\n",
      "\n",
      "23/01/2024  14:56    <DIR>          .\n",
      "23/01/2024  14:27    <DIR>          ..\n",
      "23/01/2024  14:51    <DIR>          .ipynb_checkpoints\n",
      "23/01/2024  14:55               944 Esercizio1ipynb\n",
      "23/01/2024  14:38               963 Esercizio2.ipynb\n",
      "23/01/2024  14:56               755 Esercizio3.ipynb\n",
      "23/01/2024  14:50             2.692 Esercizio4.ipynb\n",
      "23/01/2024  14:38                 6 output.txt\n",
      "23/01/2024  14:33                22 script_esempio.py\n",
      "23/01/2024  14:33                72 Untitled.ipynb\n",
      "23/01/2024  14:35                 0 untitled.py\n",
      "23/01/2024  14:53               617 Untitled1.ipynb\n",
      "               9 File          6.071 byte\n",
      "               3 Directory  268.543.696.896 byte disponibili\n"
     ]
    }
   ],
   "source": [
    "%ls"
   ]
  },
  {
   "cell_type": "code",
   "execution_count": null,
   "id": "30989388-2126-436a-a0a3-3b94136b97fd",
   "metadata": {},
   "outputs": [],
   "source": []
  }
 ],
 "metadata": {
  "kernelspec": {
   "display_name": "Python 3 (ipykernel)",
   "language": "python",
   "name": "python3"
  },
  "language_info": {
   "codemirror_mode": {
    "name": "ipython",
    "version": 3
   },
   "file_extension": ".py",
   "mimetype": "text/x-python",
   "name": "python",
   "nbconvert_exporter": "python",
   "pygments_lexer": "ipython3",
   "version": "3.11.5"
  }
 },
 "nbformat": 4,
 "nbformat_minor": 5
}
