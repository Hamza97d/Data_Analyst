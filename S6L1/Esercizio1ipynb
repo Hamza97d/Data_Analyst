{
 "cells": [
  {
   "cell_type": "code",
   "execution_count": 4,
   "id": "4957c520-61b1-45a3-8feb-2b44777a8f4b",
   "metadata": {
    "tags": []
   },
   "outputs": [
    {
     "name": "stdout",
     "output_type": "stream",
     "text": [
      "Hello, World!\n"
     ]
    }
   ],
   "source": [
    "%run script_esempio.py"
   ]
  },
  {
   "cell_type": "code",
   "execution_count": null,
   "id": "1c59c62e-5d62-4760-9a0f-a7d3c8959224",
   "metadata": {},
   "outputs": [],
   "source": []
  }
 ],
 "metadata": {
  "kernelspec": {
   "display_name": "Python 3 (ipykernel)",
   "language": "python",
   "name": "python3"
  },
  "language_info": {
   "codemirror_mode": {
    "name": "ipython",
    "version": 3
   },
   "file_extension": ".py",
   "mimetype": "text/x-python",
   "name": "python",
   "nbconvert_exporter": "python",
   "pygments_lexer": "ipython3",
   "version": "3.11.5"
  }
 },
 "nbformat": 4,
 "nbformat_minor": 5
}
