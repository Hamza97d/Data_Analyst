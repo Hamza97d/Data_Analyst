{
 "cells": [
  {
   "cell_type": "code",
   "execution_count": 4,
   "id": "5b7baed3-69af-4a48-b745-5b180292e068",
   "metadata": {
    "tags": []
   },
   "outputs": [
    {
     "name": "stdout",
     "output_type": "stream",
     "text": [
      "Writing output.txt\n"
     ]
    }
   ],
   "source": [
    "%%writefile output.txt\n",
    "Ciao"
   ]
  },
  {
   "cell_type": "code",
   "execution_count": null,
   "id": "64eb1359-15d1-4a6f-a23a-74229bd0f40d",
   "metadata": {},
   "outputs": [],
   "source": []
  }
 ],
 "metadata": {
  "kernelspec": {
   "display_name": "Python 3 (ipykernel)",
   "language": "python",
   "name": "python3"
  },
  "language_info": {
   "codemirror_mode": {
    "name": "ipython",
    "version": 3
   },
   "file_extension": ".py",
   "mimetype": "text/x-python",
   "name": "python",
   "nbconvert_exporter": "python",
   "pygments_lexer": "ipython3",
   "version": "3.11.5"
  }
 },
 "nbformat": 4,
 "nbformat_minor": 5
}
