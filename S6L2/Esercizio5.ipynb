{
 "cells": [
  {
   "cell_type": "code",
   "execution_count": 2,
   "id": "8bf4dc98-29bf-4a58-b9ca-5b52455da32c",
   "metadata": {
    "tags": []
   },
   "outputs": [
    {
     "name": "stdout",
     "output_type": "stream",
     "text": [
      "[[ 1  1  1  1]\n",
      " [ 5  1  1  1]\n",
      " [20 -4  0 42]]\n"
     ]
    }
   ],
   "source": [
    "import numpy as np\n",
    "\n",
    "matrice_originale = [[1, 1, 1, 1], [5, 1, 1, 1], [20, -4, 0, 42]]\n",
    "\n",
    "ndarray_creato = np.empty((3, 4), dtype=int)\n",
    "\n",
    "for i in range(3):\n",
    "    for j in range(4):\n",
    "        ndarray_creato[i, j] = matrice_originale[i][j]\n",
    "\n",
    "\n",
    "print(ndarray_creato)\n"
   ]
  },
  {
   "cell_type": "code",
   "execution_count": null,
   "id": "24144628-0008-4f4b-bf50-2a67912d331b",
   "metadata": {},
   "outputs": [],
   "source": []
  }
 ],
 "metadata": {
  "kernelspec": {
   "display_name": "Python 3 (ipykernel)",
   "language": "python",
   "name": "python3"
  },
  "language_info": {
   "codemirror_mode": {
    "name": "ipython",
    "version": 3
   },
   "file_extension": ".py",
   "mimetype": "text/x-python",
   "name": "python",
   "nbconvert_exporter": "python",
   "pygments_lexer": "ipython3",
   "version": "3.11.5"
  }
 },
 "nbformat": 4,
 "nbformat_minor": 5
}
