{
 "cells": [
  {
   "cell_type": "code",
   "execution_count": 2,
   "id": "5c6a4446-d946-470a-b2c1-4ed2844b4958",
   "metadata": {
    "tags": []
   },
   "outputs": [
    {
     "name": "stdout",
     "output_type": "stream",
     "text": [
      "Numero di dimensioni: 3\n"
     ]
    }
   ],
   "source": [
    "import numpy as np\n",
    "\n",
    "linear_data = np.array([x for x in range(27)])\n",
    "\n",
    "reshaped_data = linear_data.reshape((3, 3, 3))\n",
    "\n",
    "numero_di_dimensioni = reshaped_data.ndim\n",
    "print(\"Numero di dimensioni:\", numero_di_dimensioni)\n"
   ]
  },
  {
   "cell_type": "code",
   "execution_count": 6,
   "id": "def25618-be00-4b19-bf31-c4f5d284c478",
   "metadata": {
    "tags": []
   },
   "outputs": [
    {
     "name": "stdout",
     "output_type": "stream",
     "text": [
      "Elemento: 13\n"
     ]
    }
   ],
   "source": [
    "elemento = reshaped_data[1, 1, 1]\n",
    "print(\"Elemento:\", elemento)"
   ]
  },
  {
   "cell_type": "code",
   "execution_count": null,
   "id": "59cb09db-1832-4e9b-bf64-dafd8da8fa2a",
   "metadata": {},
   "outputs": [],
   "source": []
  }
 ],
 "metadata": {
  "kernelspec": {
   "display_name": "Python 3 (ipykernel)",
   "language": "python",
   "name": "python3"
  },
  "language_info": {
   "codemirror_mode": {
    "name": "ipython",
    "version": 3
   },
   "file_extension": ".py",
   "mimetype": "text/x-python",
   "name": "python",
   "nbconvert_exporter": "python",
   "pygments_lexer": "ipython3",
   "version": "3.11.5"
  }
 },
 "nbformat": 4,
 "nbformat_minor": 5
}
