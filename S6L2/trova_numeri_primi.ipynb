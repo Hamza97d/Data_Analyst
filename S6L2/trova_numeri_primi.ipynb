{
 "cells": [
  {
   "cell_type": "code",
   "execution_count": 22,
   "id": "043e92ad-9012-401c-9d93-adb16f5a4b9a",
   "metadata": {
    "tags": []
   },
   "outputs": [
    {
     "name": "stdin",
     "output_type": "stream",
     "text": [
      "Inserisci il numero massimo:  13\n"
     ]
    },
    {
     "name": "stdout",
     "output_type": "stream",
     "text": [
      "Numeri primi: [2, 3, 5, 7, 11, 13]\n"
     ]
    }
   ],
   "source": [
    "def trova_numeri_primi(n):\n",
    "    primi = [numero for numero in range(2, n + 1) if all(numero % i != 0 for i in range(2, numero))]\n",
    "\n",
    "    return primi\n",
    "\n",
    "n = int(input(\"Inserisci il numero massimo: \"))\n",
    "\n",
    "primi_numeri = trova_numeri_primi(n)\n",
    "\n",
    "print(\"Numeri primi:\", primi_numeri)\n"
   ]
  },
  {
   "cell_type": "code",
   "execution_count": null,
   "id": "0369789d-7981-406a-9912-8e4cbf70391b",
   "metadata": {},
   "outputs": [],
   "source": []
  }
 ],
 "metadata": {
  "kernelspec": {
   "display_name": "Python 3 (ipykernel)",
   "language": "python",
   "name": "python3"
  },
  "language_info": {
   "codemirror_mode": {
    "name": "ipython",
    "version": 3
   },
   "file_extension": ".py",
   "mimetype": "text/x-python",
   "name": "python",
   "nbconvert_exporter": "python",
   "pygments_lexer": "ipython3",
   "version": "3.11.5"
  }
 },
 "nbformat": 4,
 "nbformat_minor": 5
}
