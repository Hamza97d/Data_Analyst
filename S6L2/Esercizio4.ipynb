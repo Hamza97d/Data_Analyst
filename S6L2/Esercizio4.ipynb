{
 "cells": [
  {
   "cell_type": "code",
   "execution_count": 2,
   "id": "1e567b2f-8178-42c1-8753-bfca430f6049",
   "metadata": {
    "tags": []
   },
   "outputs": [
    {
     "name": "stdout",
     "output_type": "stream",
     "text": [
      "Posizioni dei rivetti:\n",
      "[ 0.    2.05  4.11  6.16  8.21 10.27 12.32 14.37 16.43 18.48 20.54 22.59\n",
      " 24.64 26.7  28.75]\n"
     ]
    }
   ],
   "source": [
    "import numpy as np\n",
    "\n",
    "lunghezza_struttura = 28.75 \n",
    "numero_rivetti = 15 \n",
    "\n",
    "\n",
    "distanza_tra_rivetti = lunghezza_struttura / (numero_rivetti - 1)\n",
    "\n",
    "posizioni_rivetti = np.arange(0, lunghezza_struttura + distanza_tra_rivetti, distanza_tra_rivetti)\n",
    "\n",
    "posizioni_rivetti = np.round(posizioni_rivetti, 2)\n",
    "\n",
    "print(\"Posizioni dei rivetti:\")\n",
    "print(posizioni_rivetti)\n"
   ]
  },
  {
   "cell_type": "code",
   "execution_count": null,
   "id": "725550b1-2122-4520-b2a0-25ef531ccbd6",
   "metadata": {},
   "outputs": [],
   "source": []
  }
 ],
 "metadata": {
  "kernelspec": {
   "display_name": "Python 3 (ipykernel)",
   "language": "python",
   "name": "python3"
  },
  "language_info": {
   "codemirror_mode": {
    "name": "ipython",
    "version": 3
   },
   "file_extension": ".py",
   "mimetype": "text/x-python",
   "name": "python",
   "nbconvert_exporter": "python",
   "pygments_lexer": "ipython3",
   "version": "3.11.5"
  }
 },
 "nbformat": 4,
 "nbformat_minor": 5
}
