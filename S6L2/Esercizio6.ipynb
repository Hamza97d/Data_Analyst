{
 "cells": [
  {
   "cell_type": "code",
   "execution_count": 4,
   "id": "cff88870-b903-4afc-a35e-22cc1d332a8d",
   "metadata": {
    "tags": []
   },
   "outputs": [
    {
     "name": "stdout",
     "output_type": "stream",
     "text": [
      "Array originale:\n",
      "[[10 22 21  8  9]\n",
      " [ 9 42  3 18 11]\n",
      " [ 5  4 30 12 29]\n",
      " [37 31  7  2 26]\n",
      " [ 8  6  4 33 15]]\n",
      "\n",
      "Array trasformato:\n",
      "[[0.2   0.5   0.475 0.15  0.175]\n",
      " [0.175 1.    0.025 0.4   0.225]\n",
      " [0.075 0.05  0.7   0.25  0.675]\n",
      " [0.875 0.725 0.125 0.    0.6  ]\n",
      " [0.15  0.1   0.05  0.775 0.325]]\n"
     ]
    }
   ],
   "source": [
    "import numpy as np\n",
    "\n",
    "array_originale = np.array([[10, 22, 21, 8, 9],\n",
    "                            [9, 42, 3, 18, 11],\n",
    "                            [5, 4, 30, 12, 29],\n",
    "                            [37, 31, 7, 2, 26],\n",
    "                            [8, 6, 4, 33, 15]])\n",
    "\n",
    "valore_minimo = np.min(array_originale)\n",
    "valore_massimo = np.max(array_originale)\n",
    "\n",
    "array_trasformato = (array_originale - valore_minimo) / (valore_massimo - valore_minimo)\n",
    "\n",
    "print(\"Array originale:\")\n",
    "print(array_originale)\n",
    "\n",
    "print(\"\\nArray trasformato:\")\n",
    "print(array_trasformato)\n"
   ]
  },
  {
   "cell_type": "code",
   "execution_count": null,
   "id": "1d76d453-b136-4289-b67f-a196d7bb6f14",
   "metadata": {},
   "outputs": [],
   "source": []
  }
 ],
 "metadata": {
  "kernelspec": {
   "display_name": "Python 3 (ipykernel)",
   "language": "python",
   "name": "python3"
  },
  "language_info": {
   "codemirror_mode": {
    "name": "ipython",
    "version": 3
   },
   "file_extension": ".py",
   "mimetype": "text/x-python",
   "name": "python",
   "nbconvert_exporter": "python",
   "pygments_lexer": "ipython3",
   "version": "3.11.5"
  }
 },
 "nbformat": 4,
 "nbformat_minor": 5
}
