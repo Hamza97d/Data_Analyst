{
 "cells": [
  {
   "cell_type": "code",
   "execution_count": 13,
   "id": "fedbf583-86ef-483e-a24f-5f6257a4d5c4",
   "metadata": {
    "tags": []
   },
   "outputs": [
    {
     "name": "stdout",
     "output_type": "stream",
     "text": [
      "E\n",
      "p\n",
      "i\n",
      "c\n",
      "o\n",
      "d\n",
      "e\n"
     ]
    }
   ],
   "source": [
    "#Abbiamo la stringa: nome_scuola = \"Epicode\" Stampare ogni carattere della stringa, uno su ogni riga, utilizzando un costrutto while.\n",
    "\n",
    "nome_scuola = \"Epicode\"\n",
    "indice = 0\n",
    "while indice < len(nome_scuola):\n",
    "    print(nome_scuola[indice])\n",
    "    indice += 1"
   ]
  },
  {
   "cell_type": "code",
   "execution_count": 2,
   "id": "0137068c-cef9-4c9b-8d42-9d3613c93daf",
   "metadata": {
    "tags": []
   },
   "outputs": [
    {
     "name": "stdout",
     "output_type": "stream",
     "text": [
      "0\n",
      "1\n",
      "2\n",
      "3\n",
      "4\n",
      "5\n",
      "6\n",
      "7\n",
      "8\n",
      "9\n",
      "10\n",
      "11\n",
      "12\n",
      "13\n",
      "14\n",
      "15\n",
      "16\n",
      "17\n",
      "18\n",
      "19\n",
      "20\n"
     ]
    }
   ],
   "source": [
    "# Stampare a video tutti i numeri da 0 a 20 utilizzando il costrutto while.\n",
    "\n",
    "numero = 0\n",
    "while numero <= 20:\n",
    "    print(numero)\n",
    "    numero += 1"
   ]
  },
  {
   "cell_type": "code",
   "execution_count": 3,
   "id": "5712c729-d988-4e3c-9fea-6eec641ae68c",
   "metadata": {
    "tags": []
   },
   "outputs": [
    {
     "name": "stdout",
     "output_type": "stream",
     "text": [
      "2^0 = 1\n",
      "2^1 = 2\n",
      "2^2 = 4\n",
      "2^3 = 8\n",
      "2^4 = 16\n",
      "2^5 = 32\n",
      "2^6 = 64\n",
      "2^7 = 128\n",
      "2^8 = 256\n",
      "2^9 = 512\n"
     ]
    }
   ],
   "source": [
    "# Calcolare e stampare tutte le prime 10 potenze di 2 (e.g., 2⁰, 2¹, 2², …) utilizzando un ciclo while.\n",
    "\n",
    "esponente = 0\n",
    "contatore = 0\n",
    "while contatore < 10:\n",
    "    risultato = 2 ** esponente\n",
    "    print(f\"2^{esponente} = {risultato}\")\n",
    "    esponente += 1\n",
    "    contatore += 1"
   ]
  },
  {
   "cell_type": "code",
   "execution_count": 4,
   "id": "1f05d2d9-458a-4949-bea8-36d28cad96aa",
   "metadata": {
    "tags": []
   },
   "outputs": [
    {
     "name": "stdin",
     "output_type": "stream",
     "text": [
      "Inserisci il valore di N:  64\n"
     ]
    },
    {
     "name": "stdout",
     "output_type": "stream",
     "text": [
      "2^0 = 1\n",
      "2^1 = 2\n",
      "2^2 = 4\n",
      "2^3 = 8\n",
      "2^4 = 16\n",
      "2^5 = 32\n",
      "2^6 = 64\n",
      "2^7 = 128\n",
      "2^8 = 256\n",
      "2^9 = 512\n",
      "2^10 = 1024\n",
      "2^11 = 2048\n",
      "2^12 = 4096\n",
      "2^13 = 8192\n",
      "2^14 = 16384\n",
      "2^15 = 32768\n",
      "2^16 = 65536\n",
      "2^17 = 131072\n",
      "2^18 = 262144\n",
      "2^19 = 524288\n",
      "2^20 = 1048576\n",
      "2^21 = 2097152\n",
      "2^22 = 4194304\n",
      "2^23 = 8388608\n",
      "2^24 = 16777216\n",
      "2^25 = 33554432\n",
      "2^26 = 67108864\n",
      "2^27 = 134217728\n",
      "2^28 = 268435456\n",
      "2^29 = 536870912\n",
      "2^30 = 1073741824\n",
      "2^31 = 2147483648\n",
      "2^32 = 4294967296\n",
      "2^33 = 8589934592\n",
      "2^34 = 17179869184\n",
      "2^35 = 34359738368\n",
      "2^36 = 68719476736\n",
      "2^37 = 137438953472\n",
      "2^38 = 274877906944\n",
      "2^39 = 549755813888\n",
      "2^40 = 1099511627776\n",
      "2^41 = 2199023255552\n",
      "2^42 = 4398046511104\n",
      "2^43 = 8796093022208\n",
      "2^44 = 17592186044416\n",
      "2^45 = 35184372088832\n",
      "2^46 = 70368744177664\n",
      "2^47 = 140737488355328\n",
      "2^48 = 281474976710656\n",
      "2^49 = 562949953421312\n",
      "2^50 = 1125899906842624\n",
      "2^51 = 2251799813685248\n",
      "2^52 = 4503599627370496\n",
      "2^53 = 9007199254740992\n",
      "2^54 = 18014398509481984\n",
      "2^55 = 36028797018963968\n",
      "2^56 = 72057594037927936\n",
      "2^57 = 144115188075855872\n",
      "2^58 = 288230376151711744\n",
      "2^59 = 576460752303423488\n",
      "2^60 = 1152921504606846976\n",
      "2^61 = 2305843009213693952\n",
      "2^62 = 4611686018427387904\n",
      "2^63 = 9223372036854775808\n"
     ]
    }
   ],
   "source": [
    "# Calcolare e stampare tutte le prime N potenze di 2 utilizzando un ciclo while, domandando all'utente di inserire N.\n",
    "\n",
    "N = int(input(\"Inserisci il valore di N: \"))\n",
    "esponente = 0\n",
    "contatore = 0\n",
    "while contatore < N:\n",
    "    risultato = 2 ** esponente\n",
    "    print(f\"2^{esponente} = {risultato}\")\n",
    "    esponente += 1\n",
    "    contatore += 1\n"
   ]
  },
  {
   "cell_type": "code",
   "execution_count": 5,
   "id": "ab2cf09b-cf2d-4875-b878-27be5bcb33ad",
   "metadata": {
    "tags": []
   },
   "outputs": [
    {
     "name": "stdout",
     "output_type": "stream",
     "text": [
      "2^0 = 1\n",
      "2^1 = 2\n",
      "2^2 = 4\n",
      "2^3 = 8\n",
      "2^4 = 16\n",
      "2^5 = 32\n",
      "2^6 = 64\n",
      "2^7 = 128\n",
      "2^8 = 256\n",
      "2^9 = 512\n",
      "2^10 = 1024\n",
      "2^11 = 2048\n",
      "2^12 = 4096\n",
      "2^13 = 8192\n",
      "2^14 = 16384\n"
     ]
    }
   ],
   "source": [
    "# Calcolare e stampare tutte le potenze di 2 minori di 25000.\n",
    "esponente = 0\n",
    "while 2 ** esponente < 25000:\n",
    "    risultato = 2 ** esponente\n",
    "    print(f\"2^{esponente} = {risultato}\")\n",
    "    esponente += 1\n"
   ]
  },
  {
   "cell_type": "code",
   "execution_count": 24,
   "id": "05133e42-8dde-437e-9104-f771b71926a6",
   "metadata": {
    "tags": []
   },
   "outputs": [
    {
     "name": "stdout",
     "output_type": "stream",
     "text": [
      "Le liste non hanno la stessa lunghezza.\n"
     ]
    }
   ],
   "source": [
    "# Abbiamo due liste, una di studenti e una di corsi:\n",
    "studenti = [\"Alex\", \"Bob\", \"Cindy\", \"Dan\", \"Emma\", \"Faith\", \"Grace\", \"Henry\"]\n",
    "corsi = [\"Cybersecurity\", \"Backend\", \"Frontend\", \"Data Analyst\"]\n",
    "\n",
    "if \"Data Analyst\" not in corsi:\n",
    "    corsi.append(\"Data Analyst\")\n",
    "\n",
    "if \"Backend\" not in corsi:\n",
    "    corsi.append(\"Backend\")\n",
    "\n",
    "if \"Frontend\" not in corsi:\n",
    "    corsi.append(\"Frontend\")\n",
    "\n",
    "if \"Cybersecurity\" not in corsi:\n",
    "    corsi.append(\"Cybersecurity\")\n",
    "\n",
    "if len(studenti) == len(corsi):\n",
    "    print(corsi)\n",
    "else:\n",
    "    print(\"Le liste non hanno la stessa lunghezza.\")\n"
   ]
  },
  {
   "cell_type": "code",
   "execution_count": 9,
   "id": "564e7f70-feb1-481e-947f-756f7bfcab28",
   "metadata": {
    "tags": []
   },
   "outputs": [
    {
     "name": "stdin",
     "output_type": "stream",
     "text": [
      "Inserisci una stringa:  xyz\n"
     ]
    },
    {
     "name": "stdout",
     "output_type": "stream",
     "text": [
      "Risultato: xyz...xyz\n"
     ]
    }
   ],
   "source": [
    "# Scriviamo un programma che chiede in input all'utente una stringa e visualizza i primi 3 caratteri, seguiti da 3 punti di sospensione e quindi gli ultimi 3 caratteri (Stavolta facciamo attenzione a tutti i casi particolari, ovvero implementare soluzioni ad hoc per stringhe di lunghezza inferiore a 6 caratteri)\n",
    "\n",
    "input_stringa = input(\"Inserisci una stringa: \")\n",
    "lunghezza_stringa = len(input_stringa)\n",
    "\n",
    "if lunghezza_stringa < 3:\n",
    "    print(\"La stringa è troppo corta.\")\n",
    "else:\n",
    "    primi_3 = input_stringa[:3]\n",
    "\n",
    "    ultimi_3 = input_stringa[-3:]\n",
    "    \n",
    "    risultato = primi_3 + \"...\" + ultimi_3\n",
    "    print(\"Risultato:\", risultato)"
   ]
  },
  {
   "cell_type": "code",
   "execution_count": 10,
   "id": "2e1f53b2-f7c4-48dd-ad8f-12c8d793000d",
   "metadata": {
    "tags": []
   },
   "outputs": [
    {
     "name": "stdin",
     "output_type": "stream",
     "text": [
      "Inserisci un numero:  88\n"
     ]
    },
    {
     "name": "stdout",
     "output_type": "stream",
     "text": [
      "I divisori di 88 sono: [2, 4, 8, 11, 22, 44, 88]\n"
     ]
    }
   ],
   "source": [
    "# Memorizza e stampa tutti i divisori di un numero dato in input.\n",
    "\n",
    "numero = int(input(\"Inserisci un numero: \"))\n",
    "divisori = []\n",
    "\n",
    "for i in range(2, numero // 2 + 1):\n",
    "    if numero % i == 0:\n",
    "        divisori.append(i)\n",
    "\n",
    "if numero != 1:\n",
    "    divisori.append(numero)\n",
    "\n",
    "    print(f\"I divisori di {numero} sono: {divisori}\")\n",
    "\n"
   ]
  },
  {
   "cell_type": "code",
   "execution_count": 11,
   "id": "2ca4be23-777a-46eb-a690-e771d158766f",
   "metadata": {
    "tags": []
   },
   "outputs": [
    {
     "name": "stdin",
     "output_type": "stream",
     "text": [
      "Inserisci il valore di K:  2\n",
      "Inserisci il valore di N:  64\n"
     ]
    },
    {
     "name": "stdout",
     "output_type": "stream",
     "text": [
      "Le prime 64 potenze di 2 sono: [1, 2, 4, 8, 16, 32, 64, 128, 256, 512, 1024, 2048, 4096, 8192, 16384, 32768, 65536, 131072, 262144, 524288, 1048576, 2097152, 4194304, 8388608, 16777216, 33554432, 67108864, 134217728, 268435456, 536870912, 1073741824, 2147483648, 4294967296, 8589934592, 17179869184, 34359738368, 68719476736, 137438953472, 274877906944, 549755813888, 1099511627776, 2199023255552, 4398046511104, 8796093022208, 17592186044416, 35184372088832, 70368744177664, 140737488355328, 281474976710656, 562949953421312, 1125899906842624, 2251799813685248, 4503599627370496, 9007199254740992, 18014398509481984, 36028797018963968, 72057594037927936, 144115188075855872, 288230376151711744, 576460752303423488, 1152921504606846976, 2305843009213693952, 4611686018427387904, 9223372036854775808]\n"
     ]
    }
   ],
   "source": [
    "#Calcolare (ma non stampare) le prime N potenze di K; ognuna di esse andrà memorizzata in coda a una lista.\n",
    "\n",
    "K = int(input(\"Inserisci il valore di K: \"))\n",
    "N = int(input(\"Inserisci il valore di N: \"))\n",
    "\n",
    "potenze_di_K = []\n",
    "\n",
    "for esponente in range(N):\n",
    "    potenza = K ** esponente\n",
    "    potenze_di_K.append(potenza)\n",
    "\n",
    "print(f\"Le prime {N} potenze di {K} sono: {potenze_di_K}\")\n"
   ]
  },
  {
   "cell_type": "code",
   "execution_count": 12,
   "id": "07f5e1c0-53cf-4b4e-98b3-6c8455e44d36",
   "metadata": {
    "tags": []
   },
   "outputs": [
    {
     "name": "stdout",
     "output_type": "stream",
     "text": [
      "La media dei guadagni degli ultimi 12 mesi è: 70.0\n"
     ]
    }
   ],
   "source": [
    "#Abbiamo una lista con i guadagni degli ultimi 12 mesi: guadagni = [100, 90, 70, 40, 50, 80, 90, 120, 80, 20, 50, 50] usando un costrutto while, calcolare la media dei guadagni e stamparla a video.\n",
    "\n",
    "guadagni = [100, 90, 70, 40, 50, 80, 90, 120, 80, 20, 50, 50]\n",
    "somma_guadagni = 0\n",
    "indice = 0\n",
    "\n",
    "while indice < len(guadagni):\n",
    "    somma_guadagni += guadagni[indice]\n",
    "    indice += 1\n",
    "\n",
    "media_guadagni = somma_guadagni / len(guadagni)\n",
    "\n",
    "print(\"La media dei guadagni degli ultimi 12 mesi è:\",(media_guadagni))\n"
   ]
  },
  {
   "cell_type": "code",
   "execution_count": 23,
   "id": "e19263a4-9c20-4052-9b20-a03fc949bb3f",
   "metadata": {
    "tags": []
   },
   "outputs": [
    {
     "name": "stdout",
     "output_type": "stream",
     "text": [
      "Codici fiscali contenenti '95': ['ABCDEF95G01A123B', 'STUVWX95Z04A654E', 'DEFGHI95J06A987G']\n",
      "Codice fiscale: ABCDEF95G01A123B Nome: DEF Cognome: ABC\n",
      "Codice fiscale: STUVWX95Z04A654E Nome: VWX Cognome: STU\n",
      "Codice fiscale: DEFGHI95J06A987G Nome: GHI Cognome: DEF\n"
     ]
    }
   ],
   "source": [
    "# Abbiamo una lista di codici fiscali:\n",
    "\n",
    "lista_cf = [\"ABCDEF95G01A123B\", \"GHIJKL91M02A321C\", \"MNOPQR89S03A456D\", \"STUVWX95Z04A654E\", \"XYZABC01D05A789F\", \"DEFGHI95J06A987G\"]\n",
    "\n",
    "cf_contenenti_95 = []\n",
    "\n",
    "for cf in lista_cf:\n",
    "    if \"95\" in cf:\n",
    "        cf_contenenti_95.append(cf)\n",
    "\n",
    "print(\"Codici fiscali contenenti '95':\", cf_contenenti_95)\n",
    "\n",
    "for cf in cf_contenenti_95:\n",
    "    nome = cf[3:6] \n",
    "    cognome = cf[0:3]  \n",
    "    print(\"Codice fiscale:\", cf, \"Nome:\", nome, \"Cognome:\", cognome)\n"
   ]
  },
  {
   "cell_type": "code",
   "execution_count": 27,
   "id": "eb57d875-f092-4667-bf14-58bdd4c4b54f",
   "metadata": {
    "tags": []
   },
   "outputs": [
    {
     "name": "stdout",
     "output_type": "stream",
     "text": [
      "Studenti che frequentano la prima edizione:\n",
      "Alex\n",
      "Faith\n"
     ]
    }
   ],
   "source": [
    "#Abbiamo tre liste della stessa lunghezza, dove ogni elemento nella medesima posizione si riferisce ai dati dello stesso studente:\n",
    "\n",
    "studenti = [\"Alex\", \"Bob\", \"Cindy\", \"Dan\", \"Emma\", \"Faith\", \"Grace\", \"Henry\"]\n",
    "corsi = [\"Cybersecurity\", \"Data Analyst\", \"Backend\", \"Frontend\", \"Data Analyst\", \"Backend\", \"Frontend\", \"Cybersecurity\"]\n",
    "edizioni = [1, 2, 3, 2, 2, 1, 3, 3]\n",
    "\n",
    "print(\"Studenti che frequentano la prima edizione:\")\n",
    "for i in range(len(studenti)):\n",
    "    if edizioni[i] == 1:\n",
    "        print(studenti[i])\n",
    "#Riuscite a vedere una similarità con la logica che si usa in SQL e le tabelle relazionali?\n",
    "# si il codice è una select da una tabella dove edizioni è uguale ad 1"
   ]
  },
  {
   "cell_type": "code",
   "execution_count": 21,
   "id": "49739cd4-c6d3-4df6-95a8-9cf99c948875",
   "metadata": {
    "tags": []
   },
   "outputs": [
    {
     "name": "stdout",
     "output_type": "stream",
     "text": [
      "Prezzi corretti in dollari: ['100 $', '200 $', '500 $', '10 $', '50 $', '70 $']\n"
     ]
    }
   ],
   "source": [
    "#Abbiamo una lista di stringhe di prezzi in dollari, che erroneamente sono stati scritti con il simbolo dell'euro:\n",
    "\n",
    "prezzi = [\"100 €\", \"200 €\", \"500 €\", \"10 €\", \"50 €\", \"70 €\"]\n",
    "\n",
    "prezzi_in_dollari = []\n",
    "\n",
    "for prezzo in prezzi:\n",
    "    prezzi_in_dollari.append(prezzo.replace('€', '$'))\n",
    "\n",
    "print(\"Prezzi corretti in dollari:\", prezzi_in_dollari)\n"
   ]
  },
  {
   "cell_type": "code",
   "execution_count": 25,
   "id": "cfa7e972-0c29-4bd7-b0b8-a4b0d266a08f",
   "metadata": {
    "tags": []
   },
   "outputs": [
    {
     "name": "stdout",
     "output_type": "stream",
     "text": [
      "Squadra Pari: ['Bob', 'Dan', 'Faith', 'Henry', 'John']\n",
      "Squadra Dispari: ['Alex', 'Cindy', 'Emma', 'Grace', 'Isabelle']\n"
     ]
    }
   ],
   "source": [
    "# Abbiamo una lista di studenti:\n",
    "\n",
    "studenti = [\"Alex\", \"Bob\", \"Cindy\", \"Dan\", \"Emma\", \"Faith\", \"Grace\", \"Henry\", \"Isabelle\", \"John\"]\n",
    "\n",
    "squadra_pari = []\n",
    "squadra_dispari = []\n",
    "\n",
    "indice = 1\n",
    "for studente in studenti:\n",
    "    if indice % 2 == 0:\n",
    "        squadra_pari.append(studente)\n",
    "    else:\n",
    "        squadra_dispari.append(studente)\n",
    "    indice += 1\n",
    "\n",
    "print(\"Squadra Pari:\", squadra_pari)\n",
    "print(\"Squadra Dispari:\", squadra_dispari)\n"
   ]
  }
 ],
 "metadata": {
  "kernelspec": {
   "display_name": "Python 3 (ipykernel)",
   "language": "python",
   "name": "python3"
  },
  "language_info": {
   "codemirror_mode": {
    "name": "ipython",
    "version": 3
   },
   "file_extension": ".py",
   "mimetype": "text/x-python",
   "name": "python",
   "nbconvert_exporter": "python",
   "pygments_lexer": "ipython3",
   "version": "3.11.5"
  }
 },
 "nbformat": 4,
 "nbformat_minor": 5
}
