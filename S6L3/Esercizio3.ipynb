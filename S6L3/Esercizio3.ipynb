{
 "cells": [
  {
   "cell_type": "code",
   "execution_count": 37,
   "id": "136a4a63-a9ed-4581-b2fc-eb907298b53c",
   "metadata": {
    "tags": []
   },
   "outputs": [
    {
     "name": "stdout",
     "output_type": "stream",
     "text": [
      "   sepal length in cm  sepal width in cm  petal length in cm  \\\n",
      "0                 4.9                3.0                 1.4   \n",
      "1                 4.7                3.2                 1.3   \n",
      "2                 4.6                3.1                 1.5   \n",
      "3                 5.0                3.6                 1.4   \n",
      "4                 5.4                3.9                 1.7   \n",
      "\n",
      "   petal width in cm        class  \n",
      "0                0.2  Iris-setosa  \n",
      "1                0.2  Iris-setosa  \n",
      "2                0.2  Iris-setosa  \n",
      "3                0.2  Iris-setosa  \n",
      "4                0.4  Iris-setosa  \n",
      "     sepal length in cm  sepal width in cm  petal length in cm  \\\n",
      "139                 6.7                3.1                 5.6   \n",
      "140                 6.9                3.1                 5.1   \n",
      "141                 5.8                2.7                 5.1   \n",
      "142                 6.8                3.2                 5.9   \n",
      "143                 6.7                3.3                 5.7   \n",
      "144                 6.7                3.0                 5.2   \n",
      "145                 6.3                2.5                 5.0   \n",
      "146                 6.5                3.0                 5.2   \n",
      "147                 6.2                3.4                 5.4   \n",
      "148                 5.9                3.0                 5.1   \n",
      "\n",
      "     petal width in cm           class  \n",
      "139                2.4  Iris-virginica  \n",
      "140                2.3  Iris-virginica  \n",
      "141                1.9  Iris-virginica  \n",
      "142                2.3  Iris-virginica  \n",
      "143                2.5  Iris-virginica  \n",
      "144                2.3  Iris-virginica  \n",
      "145                1.9  Iris-virginica  \n",
      "146                2.0  Iris-virginica  \n",
      "147                2.3  Iris-virginica  \n",
      "148                1.8  Iris-virginica  \n",
      "       sepal length in cm  sepal width in cm  petal length in cm  \\\n",
      "count          149.000000         149.000000          149.000000   \n",
      "mean             5.848322           3.051007            3.774497   \n",
      "std              0.828594           0.433499            1.759651   \n",
      "min              4.300000           2.000000            1.000000   \n",
      "25%              5.100000           2.800000            1.600000   \n",
      "50%              5.800000           3.000000            4.400000   \n",
      "75%              6.400000           3.300000            5.100000   \n",
      "max              7.900000           4.400000            6.900000   \n",
      "\n",
      "       petal width in cm  \n",
      "count         149.000000  \n",
      "mean            1.205369  \n",
      "std             0.761292  \n",
      "min             0.100000  \n",
      "25%             0.300000  \n",
      "50%             1.300000  \n",
      "75%             1.800000  \n",
      "max             2.500000  \n",
      "sepal length in cm    5.848322\n",
      "sepal width in cm     3.051007\n",
      "petal length in cm    3.774497\n",
      "petal width in cm     1.205369\n",
      "dtype: float64\n",
      "class\n",
      "Iris-versicolor    50\n",
      "Iris-virginica     50\n",
      "Iris-setosa        49\n",
      "Name: count, dtype: int64\n"
     ]
    }
   ],
   "source": [
    "import pandas as pd\n",
    "\n",
    "dataset = 'iris/iris.data'\n",
    "\n",
    "df = pd.read_csv(dataset)\n",
    "\n",
    "nomi_colonne = ['sepal length in cm', 'sepal width in cm', 'petal length in cm', 'petal width in cm', 'class']\n",
    "\n",
    "df.columns = nomi_colonne\n",
    "\n",
    "print(df.head())\n",
    "\n",
    "print(df.tail(10))\n",
    "\n",
    "print(df.describe())\n",
    "\n",
    "media = df.select_dtypes(include='number').mean()\n",
    "print(media)\n",
    "\n",
    "conteggio_classi = df['class'].value_counts()\n",
    "\n",
    "print(conteggio_classi)"
   ]
  },
  {
   "cell_type": "code",
   "execution_count": null,
   "id": "fa49afa2-98c2-4b86-a6f8-f2896d3190b4",
   "metadata": {},
   "outputs": [],
   "source": []
  }
 ],
 "metadata": {
  "kernelspec": {
   "display_name": "Python 3 (ipykernel)",
   "language": "python",
   "name": "python3"
  },
  "language_info": {
   "codemirror_mode": {
    "name": "ipython",
    "version": 3
   },
   "file_extension": ".py",
   "mimetype": "text/x-python",
   "name": "python",
   "nbconvert_exporter": "python",
   "pygments_lexer": "ipython3",
   "version": "3.11.5"
  }
 },
 "nbformat": 4,
 "nbformat_minor": 5
}
