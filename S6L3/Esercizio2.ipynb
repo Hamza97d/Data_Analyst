{
 "cells": [
  {
   "cell_type": "code",
   "execution_count": 12,
   "id": "555ba66c-2440-4f20-ac4c-a81fd3f9082e",
   "metadata": {
    "tags": []
   },
   "outputs": [
    {
     "name": "stdout",
     "output_type": "stream",
     "text": [
      "   5.1  3.5  1.4  0.2  Iris-setosa\n",
      "0  4.9  3.0  1.4  0.2  Iris-setosa\n",
      "1  4.7  3.2  1.3  0.2  Iris-setosa\n",
      "2  4.6  3.1  1.5  0.2  Iris-setosa\n",
      "3  5.0  3.6  1.4  0.2  Iris-setosa\n",
      "4  5.4  3.9  1.7  0.4  Iris-setosa\n",
      "Index(['5.1', '3.5', '1.4', '0.2', 'Iris-setosa'], dtype='object')\n"
     ]
    }
   ],
   "source": [
    "# Leggiamo il file e carichiamolo in un DataFrame mediante pd.read_csv() senza utilizzare altri parametri • Stampiamo le prime cinque righe \n",
    "\n",
    "import pandas as pd\n",
    "import numpy as np\n",
    "\n",
    "dataset = 'iris/iris.data'\n",
    "\n",
    "df = pd.read_csv(dataset)\n",
    "\n",
    "\n",
    "print(df.head())\n",
    "# Stampiamo i nomi di colonna: descrivono cosa c'è nella colonna relativa? NO\n",
    "print(df.columns)\n"
   ]
  },
  {
   "cell_type": "code",
   "execution_count": null,
   "id": "a0739717-9731-4819-8762-268e4deb8750",
   "metadata": {},
   "outputs": [],
   "source": []
  }
 ],
 "metadata": {
  "kernelspec": {
   "display_name": "Python 3 (ipykernel)",
   "language": "python",
   "name": "python3"
  },
  "language_info": {
   "codemirror_mode": {
    "name": "ipython",
    "version": 3
   },
   "file_extension": ".py",
   "mimetype": "text/x-python",
   "name": "python",
   "nbconvert_exporter": "python",
   "pygments_lexer": "ipython3",
   "version": "3.11.5"
  }
 },
 "nbformat": 4,
 "nbformat_minor": 5
}
