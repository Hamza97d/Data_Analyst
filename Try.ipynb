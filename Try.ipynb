{
  "nbformat": 4,
  "nbformat_minor": 0,
  "metadata": {
    "colab": {
      "provenance": [],
      "authorship_tag": "ABX9TyOG/R+r8Vs91/JJT7sm2x3v",
      "include_colab_link": true
    },
    "kernelspec": {
      "name": "python3",
      "display_name": "Python 3"
    },
    "language_info": {
      "name": "python"
    }
  },
  "cells": [
    {
      "cell_type": "markdown",
      "metadata": {
        "id": "view-in-github",
        "colab_type": "text"
      },
      "source": [
        "<a href=\"https://colab.research.google.com/github/Hamza97d/Data_Analyst/blob/main/Try.ipynb\" target=\"_parent\"><img src=\"https://colab.research.google.com/assets/colab-badge.svg\" alt=\"Open In Colab\"/></a>"
      ]
    },
    {
      "cell_type": "markdown",
      "source": [
        "\n",
        "<img src=\"https://techcrunch.com/wp-content/uploads/2012/08/palantir-logok100-01.png\" alt=\"Logo Palantir\" width=\"50%\" />"
      ],
      "metadata": {
        "id": "NNXnK4jBql0O"
      }
    },
    {
      "cell_type": "code",
      "source": [
        "print(\"Hello Palantir\")"
      ],
      "metadata": {
        "colab": {
          "base_uri": "https://localhost:8080/"
        },
        "id": "Mcez2LM4q7Ch",
        "outputId": "c084f04d-4106-4849-c11b-e660312432dd"
      },
      "execution_count": 1,
      "outputs": [
        {
          "output_type": "stream",
          "name": "stdout",
          "text": [
            "Hello Palantir\n"
          ]
        }
      ]
    }
  ]
}